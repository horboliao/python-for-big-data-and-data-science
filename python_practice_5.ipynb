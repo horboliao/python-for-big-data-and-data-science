{
  "nbformat": 4,
  "nbformat_minor": 0,
  "metadata": {
    "colab": {
      "provenance": []
    },
    "kernelspec": {
      "name": "python3",
      "display_name": "Python 3"
    },
    "language_info": {
      "name": "python"
    }
  },
  "cells": [
    {
      "cell_type": "markdown",
      "source": [
        "# I. OOP"
      ],
      "metadata": {
        "id": "5qV_sehzFCTp"
      }
    },
    {
      "cell_type": "markdown",
      "source": [
        "1. (6б). Створіть клас Animal, додайте три атрибути, один з яких має значення за замовчуванням та два методи на свій розсуд."
      ],
      "metadata": {
        "id": "tx_U_hOALyfg"
      }
    },
    {
      "cell_type": "code",
      "source": [
        "import random\n",
        "\n",
        "class Animal:\n",
        "    def __init__(self, species, sound=\"Unknown\"):\n",
        "        self.species = species\n",
        "        self.sound = sound\n",
        "        self.is_alive = True\n",
        "\n",
        "    def make_sound(self):\n",
        "        if self.sound != \"Unknown\":\n",
        "            print(f\"The {self.species} says '{self.sound} {self.sound}'!\")\n",
        "        else:\n",
        "            print(\"This animal is mute.\")\n",
        "\n",
        "    def survive_attack(self):\n",
        "        if random.random() < 0.5:\n",
        "            self.is_alive = False\n",
        "            print(f\"The {self.species} didn't survive the attack!\")\n",
        "        else:\n",
        "            print(f\"The {self.species} managed to escape the attack!\")\n",
        "\n",
        "lion = Animal(\"Lion\", \"Roar\")\n",
        "lion.make_sound()\n",
        "lion.survive_attack()\n",
        "\n",
        "bird = Animal(\"Bird\")\n",
        "bird.make_sound()\n",
        "bird.survive_attack()"
      ],
      "metadata": {
        "id": "-Vf895KaL88N",
        "colab": {
          "base_uri": "https://localhost:8080/"
        },
        "outputId": "936fa716-bb71-45b0-ea46-ae844c269e99"
      },
      "execution_count": 2,
      "outputs": [
        {
          "output_type": "stream",
          "name": "stdout",
          "text": [
            "The Lion says 'Roar Roar'!\n",
            "The Lion managed to escape the attack!\n",
            "This animal is mute.\n",
            "The Bird didn't survive the attack!\n"
          ]
        }
      ]
    },
    {
      "cell_type": "markdown",
      "source": [
        "2. (2б). Створіть два обʼєкти цього класу, де один з обʼєктів створюється із дефолтним значенням атрибуту. На одному обʼєкті отримайте значення його атрибуту, а на іншому викличте один з його методів."
      ],
      "metadata": {
        "id": "X_UlOMB0L93w"
      }
    },
    {
      "cell_type": "code",
      "source": [
        "default_animal = Animal(\"Dog\")\n",
        "custom_animal = Animal(\"Cat\", \"Meow\")\n",
        "\n",
        "print(\"Species of default_animal:\", default_animal.species)\n",
        "custom_animal.make_sound()\n"
      ],
      "metadata": {
        "id": "7gBu0ESOMCpG",
        "colab": {
          "base_uri": "https://localhost:8080/"
        },
        "outputId": "ef5c8fd9-d79f-42a7-9663-ead6b4c3be58"
      },
      "execution_count": 3,
      "outputs": [
        {
          "output_type": "stream",
          "name": "stdout",
          "text": [
            "Species of default_animal: Dog\n",
            "The Cat says 'Meow Meow'!\n"
          ]
        }
      ]
    },
    {
      "cell_type": "markdown",
      "source": [
        "3. (5б). Створіть клас, де атрибути мають різні рівні доступу. Спробуйте отримати їхні значення та опишіть результати."
      ],
      "metadata": {
        "id": "HoqSCZt1MHn5"
      }
    },
    {
      "cell_type": "code",
      "source": [
        "class SpaceObject:\n",
        "    def __init__(self, name, mass, distance):\n",
        "        self.name = name\n",
        "        self._mass = mass\n",
        "        self.__distance = distance\n",
        "\n",
        "    def get_distance(self):\n",
        "        return self.__distance\n",
        "\n",
        "planet = SpaceObject(\"Mars\", \"6.39 × 10^23 kg\", \"54.6 million km\")\n",
        "\n",
        "print(\"Public attribute - Name of the space object:\", planet.name)\n",
        "print(\"Protected attribute - Mass of the space object:\", planet._mass)\n",
        "# Приватний атрибут спробуємо отримати безпосередньо - виникне помилка\n",
        "# Але можна використовувати спеціальний метод для доступу до приватного атрибуту\n",
        "print(\"Private attribute - Distance from Earth:\", planet.get_distance())\n",
        "print(\"Private attribute - Distance from Earth:\", planet.__distance)\n"
      ],
      "metadata": {
        "id": "r9b3vJxBMSPV",
        "colab": {
          "base_uri": "https://localhost:8080/",
          "height": 228
        },
        "outputId": "cede9089-bbfd-4759-d0ba-6148f01f95ec"
      },
      "execution_count": 6,
      "outputs": [
        {
          "output_type": "stream",
          "name": "stdout",
          "text": [
            "Public attribute - Name of the space object: Mars\n",
            "Protected attribute - Mass of the space object: 6.39 × 10^23 kg\n",
            "Private attribute - Distance from Earth: 54.6 million km\n"
          ]
        },
        {
          "output_type": "error",
          "ename": "AttributeError",
          "evalue": "'SpaceObject' object has no attribute '__distance'",
          "traceback": [
            "\u001b[0;31m---------------------------------------------------------------------------\u001b[0m",
            "\u001b[0;31mAttributeError\u001b[0m                            Traceback (most recent call last)",
            "\u001b[0;32m<ipython-input-6-7e6cd96651eb>\u001b[0m in \u001b[0;36m<cell line: 17>\u001b[0;34m()\u001b[0m\n\u001b[1;32m     15\u001b[0m \u001b[0;31m# Але можна використовувати спеціальний метод для доступу до приватного атрибуту\u001b[0m\u001b[0;34m\u001b[0m\u001b[0;34m\u001b[0m\u001b[0m\n\u001b[1;32m     16\u001b[0m \u001b[0mprint\u001b[0m\u001b[0;34m(\u001b[0m\u001b[0;34m\"Private attribute - Distance from Earth:\"\u001b[0m\u001b[0;34m,\u001b[0m \u001b[0mplanet\u001b[0m\u001b[0;34m.\u001b[0m\u001b[0mget_distance\u001b[0m\u001b[0;34m(\u001b[0m\u001b[0;34m)\u001b[0m\u001b[0;34m)\u001b[0m\u001b[0;34m\u001b[0m\u001b[0;34m\u001b[0m\u001b[0m\n\u001b[0;32m---> 17\u001b[0;31m \u001b[0mprint\u001b[0m\u001b[0;34m(\u001b[0m\u001b[0;34m\"Private attribute - Distance from Earth:\"\u001b[0m\u001b[0;34m,\u001b[0m \u001b[0mplanet\u001b[0m\u001b[0;34m.\u001b[0m\u001b[0m__distance\u001b[0m\u001b[0;34m)\u001b[0m\u001b[0;34m\u001b[0m\u001b[0;34m\u001b[0m\u001b[0m\n\u001b[0m",
            "\u001b[0;31mAttributeError\u001b[0m: 'SpaceObject' object has no attribute '__distance'"
          ]
        }
      ]
    },
    {
      "cell_type": "markdown",
      "source": [
        "4. (7б). Як ви розумієте термін self? Для чого використовується метод __init __?"
      ],
      "metadata": {
        "id": "5op2m2vgMSkZ"
      }
    },
    {
      "cell_type": "markdown",
      "source": [
        "* **self** вказує на поточний об'єкт, для якого викликається метод. Коли ми викликаємо метод, Python автоматично передає поточний об'єкт в цей метод як перший аргумент, і ми маємо назвати цей аргумент self, щоб мати доступ до атрибутів та інших методів поточного об'єкту.\n",
        "\n",
        "* Метод __init__ є конструктором класу. Він викликається автоматично при створенні нового об'єкта класу. Основна його функція полягає в ініціалізації об'єкта, тобто встановленні початкових значень для його атрибутів."
      ],
      "metadata": {
        "id": "DyiPqNRvMasx"
      }
    },
    {
      "cell_type": "markdown",
      "source": [
        "5. (9б). Створіть клас Фігура без атрибутів, з методом get_area для отримання площі фігури, що повертає 0 та __add __, який приймає self та other в якості аргументів, а повертає суму площин фігур self та other."
      ],
      "metadata": {
        "id": "-6X8EGfjMd2y"
      }
    },
    {
      "cell_type": "code",
      "source": [
        "class Figure:\n",
        "    def get_area(self):\n",
        "        return 0\n",
        "\n",
        "    def __add__(self, other):\n",
        "        return self.get_area() + other.get_area()\n",
        "\n",
        "figure1 = Figure()\n",
        "figure2 = Figure()\n",
        "\n",
        "print(\"Area of figure 1:\", figure1.get_area())\n",
        "print(\"Area of figure 2:\", figure2.get_area())\n",
        "\n",
        "total_area = figure1 + figure2\n",
        "print(\"Total area of both figures:\", total_area)\n"
      ],
      "metadata": {
        "id": "4rvO_wYUMaEr",
        "colab": {
          "base_uri": "https://localhost:8080/"
        },
        "outputId": "2983af7b-f8c6-4575-fba9-bac750ad8d41"
      },
      "execution_count": 7,
      "outputs": [
        {
          "output_type": "stream",
          "name": "stdout",
          "text": [
            "Area of figure 1: 0\n",
            "Area of figure 2: 0\n",
            "Total area of both figures: 0\n"
          ]
        }
      ]
    },
    {
      "cell_type": "markdown",
      "source": [
        "6. (11б). Створіть 2 дочірніх класи від Фігури: Трикутник та Коло, які мають атрибути, необхідні для розрахунку площин. Визначте метод get_area в кожному з них так, щоби вони розраховували площу в залежності від формули для кожного типу фігури. Створіть обʼєкт класу Трикутник та обʼєкт класу Коло. Виконайте операцію суми за допомогою оператора + між ними."
      ],
      "metadata": {
        "id": "SFcKnnv5Mo_z"
      }
    },
    {
      "cell_type": "code",
      "source": [
        "import math\n",
        "\n",
        "class Triangle(Figure):\n",
        "    def __init__(self, base, height):\n",
        "        self.base = base\n",
        "        self.height = height\n",
        "\n",
        "    def get_area(self):\n",
        "        return 0.5 * self.base * self.height\n",
        "\n",
        "class Circle(Figure):\n",
        "    def __init__(self, radius):\n",
        "        self.radius = radius\n",
        "\n",
        "    def get_area(self):\n",
        "        return math.pi * self.radius ** 2\n",
        "\n",
        "triangle = Triangle(6, 4)\n",
        "circle = Circle(5)\n",
        "\n",
        "print(\"Area of the triangle:\", triangle.get_area())\n",
        "print(\"Area of the circle:\", circle.get_area())\n",
        "\n",
        "total_area = triangle + circle\n",
        "print(\"Total area of triangle and circle:\", total_area)"
      ],
      "metadata": {
        "id": "H3GVNr69Muf3",
        "colab": {
          "base_uri": "https://localhost:8080/"
        },
        "outputId": "aaf30cf0-d1c5-4f42-b56d-421905cc3abf"
      },
      "execution_count": 10,
      "outputs": [
        {
          "output_type": "stream",
          "name": "stdout",
          "text": [
            "Area of the triangle: 12.0\n",
            "Area of the circle: 78.53981633974483\n",
            "Total area of triangle and circle: 90.53981633974483\n"
          ]
        }
      ]
    },
    {
      "cell_type": "markdown",
      "source": [
        "7. (3б). Продемонструйте різницю між isinstance та issubclass."
      ],
      "metadata": {
        "id": "HCvR206YMvLK"
      }
    },
    {
      "cell_type": "code",
      "source": [
        "class SpaceObject:\n",
        "    pass\n",
        "\n",
        "class Planet(SpaceObject):\n",
        "    pass\n",
        "\n",
        "class Star(SpaceObject):\n",
        "    pass\n",
        "\n",
        "earth = Planet()\n",
        "sun = Star()\n",
        "\n",
        "# Перевірка, чи є об'єкти екземплярами певних класів\n",
        "print(\"Is 'earth' an instance of Planet?\", isinstance(earth, Planet))\n",
        "print(\"Is 'earth' an instance of Star?\", isinstance(earth, Star))\n",
        "\n",
        "print(\"Is 'sun' an instance of Star?\", isinstance(sun, Star))\n",
        "print(\"Is 'sun' an instance of Planet?\", isinstance(sun, Planet))\n",
        "\n",
        "# Перевірка, чи є класи підкласами інших класів\n",
        "print(\"Is Planet a subclass of SpaceObject?\", issubclass(Planet, SpaceObject))\n",
        "print(\"Is Star a subclass of SpaceObject?\", issubclass(Star, SpaceObject))\n",
        "print(\"Is Star a subclass of Planet?\", issubclass(Star, Planet))\n"
      ],
      "metadata": {
        "id": "L_V1bBvDM0GN",
        "colab": {
          "base_uri": "https://localhost:8080/"
        },
        "outputId": "a7e75d7f-6351-40c8-b2b4-2e37f90911ec"
      },
      "execution_count": 11,
      "outputs": [
        {
          "output_type": "stream",
          "name": "stdout",
          "text": [
            "Is 'earth' an instance of Planet? True\n",
            "Is 'earth' an instance of Star? False\n",
            "Is 'sun' an instance of Star? True\n",
            "Is 'sun' an instance of Planet? False\n",
            "Is Planet a subclass of SpaceObject? True\n",
            "Is Star a subclass of SpaceObject? True\n",
            "Is Star a subclass of Planet? False\n"
          ]
        }
      ]
    },
    {
      "cell_type": "markdown",
      "source": [
        "8. (13б). Створіть клас BankAccount з приватними атрибутами balance та account_number. Реалізуйте методи поповнення та зняття коштів, забезпечивши належну інкапсуляцію. Підказка: використовуйте декоратори property та setter."
      ],
      "metadata": {
        "id": "jjsaBZ-iM0Qq"
      }
    },
    {
      "cell_type": "code",
      "source": [
        "class BankAccount:\n",
        "    def __init__(self, account_number, initial_balance=0):\n",
        "        self._account_number = account_number\n",
        "        self._balance = initial_balance\n",
        "\n",
        "    @property\n",
        "    def balance(self):\n",
        "        return self._balance\n",
        "\n",
        "    @property\n",
        "    def account_number(self):\n",
        "        return self._account_number\n",
        "\n",
        "    @balance.setter\n",
        "    def balance(self, new_balance):\n",
        "        if new_balance >= 0:\n",
        "            self._balance = new_balance\n",
        "        else:\n",
        "            print(\"Error: Balance cannot be less than 0.\")\n",
        "\n",
        "    def deposit(self, amount):\n",
        "        if amount > 0:\n",
        "            self._balance += amount\n",
        "            print(f\"Deposited {amount}$. New balance: {self._balance}$\")\n",
        "        else:\n",
        "            print(\"Error: Amount cannot be less than 0.\")\n",
        "\n",
        "    def withdraw(self, amount):\n",
        "        if 0 < amount <= self._balance:\n",
        "            self._balance -= amount\n",
        "            print(f\"Withdrew {amount}$. New balance: {self._balance}$\")\n",
        "        else:\n",
        "            print(\"Error: Insufficient funds or amount cannot be less than 0.\")\n",
        "\n",
        "account1 = BankAccount(\"123456789\", 1000)\n",
        "\n",
        "print(\"Account number:\", account1.account_number)\n",
        "print(\"Initial balance:\", account1.balance)\n",
        "\n",
        "account1.deposit(500)\n",
        "account1.withdraw(200)\n",
        "\n",
        "print(\"Final balance:\", account1.balance)\n"
      ],
      "metadata": {
        "id": "xCvZ7lh8M7YA",
        "colab": {
          "base_uri": "https://localhost:8080/"
        },
        "outputId": "5427e2ae-5988-4c7e-ccc5-63829c260e35"
      },
      "execution_count": 14,
      "outputs": [
        {
          "output_type": "stream",
          "name": "stdout",
          "text": [
            "Account number: 123456789\n",
            "Initial balance: 1000\n",
            "Deposited 500$. New balance: 1500$\n",
            "Withdrew 200$. New balance: 1300$\n",
            "Final balance: 1300\n"
          ]
        }
      ]
    },
    {
      "cell_type": "markdown",
      "source": [
        "9. (11б). Створіть клас Library, який містить список об'єктів типу Book. Реалізуйте методи для додавання книги, видалення книги та відображення списку книг."
      ],
      "metadata": {
        "id": "tIzL2SJTM8ft"
      }
    },
    {
      "cell_type": "code",
      "source": [
        "class Book:\n",
        "    def __init__(self, title, author):\n",
        "        self.title = title\n",
        "        self.author = author\n",
        "\n",
        "class Library:\n",
        "    def __init__(self):\n",
        "        self.books = []\n",
        "\n",
        "    def add_book(self, book):\n",
        "        self.books.append(book)\n",
        "        print(f\"Book '{book.title}' by {book.author} added to the library.\")\n",
        "\n",
        "    def remove_book(self, title):\n",
        "        for book in self.books:\n",
        "            if book.title == title:\n",
        "                self.books.remove(book)\n",
        "                print(f\"Book '{title}' removed from the library.\")\n",
        "                return\n",
        "        print(f\"Book '{title}' not found in the library.\")\n",
        "\n",
        "    def display_books(self):\n",
        "        if self.books:\n",
        "            print(\"Books available in the library:\")\n",
        "            for book in self.books:\n",
        "                print(f\"- {book.title} by {book.author}\")\n",
        "        else:\n",
        "            print(\"The library is empty.\")\n",
        "\n",
        "library = Library()\n",
        "\n",
        "book1 = Book(\"Harry Potter and the Philosopher's Stone\", \"J.K. Rowling\")\n",
        "book2 = Book(\"To Kill a Mockingbird\", \"Harper Lee\")\n",
        "book3 = Book(\"1984\", \"George Orwell\")\n",
        "\n",
        "library.add_book(book1)\n",
        "library.add_book(book2)\n",
        "library.add_book(book3)\n",
        "\n",
        "library.display_books()\n",
        "\n",
        "library.remove_book(\"To Kill a Mockingbird\")\n",
        "\n",
        "library.display_books()\n"
      ],
      "metadata": {
        "id": "HWxfJKLtNAUZ",
        "colab": {
          "base_uri": "https://localhost:8080/"
        },
        "outputId": "cb972013-1922-4f61-cc57-4ae29d6d0b13"
      },
      "execution_count": 13,
      "outputs": [
        {
          "output_type": "stream",
          "name": "stdout",
          "text": [
            "Book 'Harry Potter and the Philosopher's Stone' by J.K. Rowling added to the library.\n",
            "Book 'To Kill a Mockingbird' by Harper Lee added to the library.\n",
            "Book '1984' by George Orwell added to the library.\n",
            "Books available in the library:\n",
            "- Harry Potter and the Philosopher's Stone by J.K. Rowling\n",
            "- To Kill a Mockingbird by Harper Lee\n",
            "- 1984 by George Orwell\n",
            "Book 'To Kill a Mockingbird' removed from the library.\n",
            "Books available in the library:\n",
            "- Harry Potter and the Philosopher's Stone by J.K. Rowling\n",
            "- 1984 by George Orwell\n"
          ]
        }
      ]
    },
    {
      "cell_type": "markdown",
      "source": [
        "10. (13б). Створіть клас Person з атрибутами name та age. Створіть ще один клас Employee з такими атрибутами, як department та salary. Створіть клас Manager, який успадковує обидва класи Person та Employee. Продемонструйте використання множинної спадковості, створивши обʼєкт класу Manager та отримавши mro для цього класу."
      ],
      "metadata": {
        "id": "lmV8pAwwNIqu"
      }
    },
    {
      "cell_type": "code",
      "source": [
        "class Person:\n",
        "    def __init__(self, name, age):\n",
        "        self.name = name\n",
        "        self.age = age\n",
        "\n",
        "class Employee:\n",
        "    def __init__(self, department, salary):\n",
        "        self.department = department\n",
        "        self.salary = salary\n",
        "\n",
        "class Manager(Person, Employee):\n",
        "    def __init__(self, name, age, department, salary):\n",
        "        Person.__init__(self, name, age)\n",
        "        Employee.__init__(self, department, salary)\n",
        "\n",
        "manager = Manager(\"Olha Horban\", 19, \"Sales\", 500)\n",
        "\n",
        "print(\"Manager's name:\", manager.name)\n",
        "print(\"Manager's age:\", manager.age)\n",
        "print(\"Manager's department:\", manager.department)\n",
        "print(\"Manager's salary:\", manager.salary)\n",
        "\n",
        "print(\"Method Resolution Order (MRO) for Manager class:\", Manager.mro())\n"
      ],
      "metadata": {
        "id": "R49grKlWNPeN",
        "colab": {
          "base_uri": "https://localhost:8080/"
        },
        "outputId": "39c036ee-5aa9-4b5c-8a25-07a1c66f06b0"
      },
      "execution_count": 15,
      "outputs": [
        {
          "output_type": "stream",
          "name": "stdout",
          "text": [
            "Manager's name: Olha Horban\n",
            "Manager's age: 19\n",
            "Manager's department: Sales\n",
            "Manager's salary: 500\n",
            "Method Resolution Order (MRO) for Manager class: [<class '__main__.Manager'>, <class '__main__.Person'>, <class '__main__.Employee'>, <class 'object'>]\n"
          ]
        }
      ]
    },
    {
      "cell_type": "markdown",
      "source": [
        "# II. Iterator"
      ],
      "metadata": {
        "id": "dIJyUiNBFG8G"
      }
    },
    {
      "cell_type": "markdown",
      "source": [
        "11. (4б). Визначте рядок(str) з 4ма різними за значенням символами. Створіть ітератор на основі цього рядка. Викличте 5 разів функцію next на ітераторі, 4ри перших з них огорніть у ф-цію print()."
      ],
      "metadata": {
        "id": "13vsm0NyKIzL"
      }
    },
    {
      "cell_type": "code",
      "source": [
        "my_string = \"abcd\"\n",
        "my_iterator = iter(my_string)\n",
        "for _ in range(4):\n",
        "    print(next(my_iterator))\n"
      ],
      "metadata": {
        "id": "81ntabAkKuz-",
        "colab": {
          "base_uri": "https://localhost:8080/"
        },
        "outputId": "e4f42afa-60c8-4193-c538-ec0d8b816518"
      },
      "execution_count": 17,
      "outputs": [
        {
          "output_type": "stream",
          "name": "stdout",
          "text": [
            "a\n",
            "b\n",
            "c\n",
            "d\n"
          ]
        }
      ]
    },
    {
      "cell_type": "markdown",
      "source": [
        "А що якщо викликати цю ж функцію на рядку?"
      ],
      "metadata": {
        "id": "aekWHGXOLRsO"
      }
    },
    {
      "cell_type": "code",
      "source": [
        "next_value = next(my_iterator)"
      ],
      "metadata": {
        "id": "mxATGsErLV1i",
        "colab": {
          "base_uri": "https://localhost:8080/",
          "height": 141
        },
        "outputId": "1fff0a5d-38a9-486c-c7de-55c7d2b96bb2"
      },
      "execution_count": 18,
      "outputs": [
        {
          "output_type": "error",
          "ename": "StopIteration",
          "evalue": "",
          "traceback": [
            "\u001b[0;31m---------------------------------------------------------------------------\u001b[0m",
            "\u001b[0;31mStopIteration\u001b[0m                             Traceback (most recent call last)",
            "\u001b[0;32m<ipython-input-18-108467a1c864>\u001b[0m in \u001b[0;36m<cell line: 1>\u001b[0;34m()\u001b[0m\n\u001b[0;32m----> 1\u001b[0;31m \u001b[0mnext_value\u001b[0m \u001b[0;34m=\u001b[0m \u001b[0mnext\u001b[0m\u001b[0;34m(\u001b[0m\u001b[0mmy_iterator\u001b[0m\u001b[0;34m)\u001b[0m\u001b[0;34m\u001b[0m\u001b[0;34m\u001b[0m\u001b[0m\n\u001b[0m",
            "\u001b[0;31mStopIteration\u001b[0m: "
          ]
        }
      ]
    },
    {
      "cell_type": "markdown",
      "source": [
        " 12. (5б). Опишіть своїми словами в одному реченні, як ви розумієте різницю між ітерабельними обʼєктами та ітераторами (можна на прикладі)."
      ],
      "metadata": {
        "id": "XwtMEopwJ4pH"
      }
    },
    {
      "cell_type": "markdown",
      "source": [
        "* Ітерабельні об'єкти - це об'єкти, які можна перебирати за допомогою **for** або **list()**, вони зберігають послідовність елементів\n",
        "* Ітератори - це спеціальні об'єкти, які дозволяють послідовно отримувати елементи з ітерабельного об'єкта, використовуючи метод **next()**, і вони запам'ятовують поточний стан ітерації"
      ],
      "metadata": {
        "id": "-sHrODc3KFn8"
      }
    },
    {
      "cell_type": "markdown",
      "source": [
        "13. (11б). Створіть клас, що має визначений Iterator Protocol та при кожному виклику next повертає літери англійської абетки, поки вони не вичерпаються."
      ],
      "metadata": {
        "id": "E9qJWmNbK8Gl"
      }
    },
    {
      "cell_type": "code",
      "source": [
        "class AlphabetIterator:\n",
        "    def __init__(self):\n",
        "        self.index = 0\n",
        "        self.alphabet = 'abcdefghijklmnopqrstuvwxyz'\n",
        "\n",
        "    def __iter__(self):\n",
        "        return self\n",
        "\n",
        "    def __next__(self):\n",
        "        while self.index < len(self.alphabet):\n",
        "            letter = self.alphabet[self.index]\n",
        "            self.index += 1\n",
        "            return letter\n",
        "        else:\n",
        "            raise StopIteration\n",
        "\n",
        "alphabet_iter = AlphabetIterator()\n",
        "\n",
        "while True:\n",
        "    try:\n",
        "        print(next(alphabet_iter))\n",
        "    except StopIteration:\n",
        "        break"
      ],
      "metadata": {
        "id": "cqx-g_RsLo6I",
        "colab": {
          "base_uri": "https://localhost:8080/"
        },
        "outputId": "2808c8ce-e74d-489c-90de-c64dabcae159"
      },
      "execution_count": 21,
      "outputs": [
        {
          "output_type": "stream",
          "name": "stdout",
          "text": [
            "a\n",
            "b\n",
            "c\n",
            "d\n",
            "e\n",
            "f\n",
            "g\n",
            "h\n",
            "i\n",
            "j\n",
            "k\n",
            "l\n",
            "m\n",
            "n\n",
            "o\n",
            "p\n",
            "q\n",
            "r\n",
            "s\n",
            "t\n",
            "u\n",
            "v\n",
            "w\n",
            "x\n",
            "y\n",
            "z\n"
          ]
        }
      ]
    },
    {
      "cell_type": "markdown",
      "source": [
        "# Вітаю! Ви велика(ий) молодець, що впоралась(вся). Похваліть себе та побалуйте чимось приємним. Я Вами пишаюся."
      ],
      "metadata": {
        "id": "Z3E3S_s1Fv7-"
      }
    }
  ]
}